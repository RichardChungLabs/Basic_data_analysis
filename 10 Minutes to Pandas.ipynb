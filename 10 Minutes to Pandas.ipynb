{
 "cells": [
  {
   "cell_type": "markdown",
   "metadata": {},
   "source": [
    "Pandas 10분 완성\n",
    "역자 주 : 본 자료는 10 Minutes to Pandas (하단 원문 링크 참조)의 한글 번역 자료로, 번역은 데잇걸즈2 프로그램 교육생 모두가 함께 진행하였습니다. 데잇걸즈2는 과학기술정보통신부와 한국정보화진흥원이 주관하는 SW여성인재 빅데이터 분석 교육과정으로, 상세한 소개는 페이스북 페이지를 참조 부탁 드립니다.\n",
    "\n",
    "본 자료의 저작권은 BSD-3-Clause인 점을 참조하여 주세요.\n",
    "\n",
    "This documentation is a Korean translation material of ‘10 Minutes to Pandas’. Every member of DATAITGIRLS2 program participated in the translation. If you want to know about DATAITGIRLS2 program, please visit DATAITGIRLS2 program’s facebook page.\n",
    "\n",
    "The copyright conditions of this documentation are BSD-3-Clause.\n",
    "\n",
    "역자 주 (참조 자료) : 10 Minuts to Pandas 원문, 판다스 개발자의 PyCon Korea 2016 발표 : Keynote, Pandas 10분 완성 원문의 인터넷 강의 영상, Pandas Cheat Sheet\n",
    "\n"
   ]
  },
  {
   "attachments": {},
   "cell_type": "markdown",
   "metadata": {},
   "source": [
    "이 소개서는 주로 신규 사용자를 대상으로 한 판다스에 대한 간략한 소개로, 아래와 같이 구성되어 있습니다. 더 자세한 방법은 Cookbook에서 볼 수 있습니다.\n",
    "\n",
    "Object Creation (객체 생성)\n",
    "Viewing Data (데이터 확인하기)\n",
    "Selection (선택)\n",
    "Missing Data (결측치)\n",
    "Operation (연산)\n",
    "Merge (병합)\n",
    "Grouping (그룹화)\n",
    "Reshaping (변형)\n",
    "Time Series (시계열)\n",
    "Categoricals (범주화)\n",
    "Plotting (그래프)\n",
    "Getting Data In / Out (데이터 입 / 출력)\n",
    "Gotchas (잡았다!)"
   ]
  },
  {
   "cell_type": "markdown",
   "metadata": {},
   "source": []
  },
  {
   "cell_type": "code",
   "execution_count": null,
   "metadata": {},
   "outputs": [],
   "source": []
  }
 ],
 "metadata": {
  "language_info": {
   "name": "python"
  },
  "orig_nbformat": 4
 },
 "nbformat": 4,
 "nbformat_minor": 2
}
